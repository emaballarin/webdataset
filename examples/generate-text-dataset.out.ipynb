{
 "cells": [
  {
   "cell_type": "markdown",
   "metadata": {},
   "source": [
    "# Dataset Generation\n",
    "\n",
    "This is a simple example of dataset generation using WebDataset `TarWriter`. Shard are uploaded to a server or to the cloud as they are generated.\n",
    "\n",
    "Parallel dataset generation with Ray is illustrated at the very end.\n",
    "\n",
    "This particular notebook generates short text samples using GPT-2. These can be used to generate OCR training data."
   ]
  },
  {
   "cell_type": "code",
   "execution_count": 1,
   "metadata": {
    "execution": {
     "iopub.execute_input": "2023-12-14T20:11:36.273478Z",
     "iopub.status.busy": "2023-12-14T20:11:36.273057Z",
     "iopub.status.idle": "2023-12-14T20:11:47.799661Z",
     "shell.execute_reply": "2023-12-14T20:11:47.797542Z"
    },
    "id": "61u4BASSNq6y"
   },
   "outputs": [
    {
     "name": "stdout",
     "output_type": "stream",
     "text": [
      "webdataset already installed\n"
     ]
    }
   ],
   "source": [
    "# package installs for colab\n",
    "\n",
    "# !pip install --quiet torch\n",
    "# !pip install transformers\n",
    "\n",
    "try:\n",
    "    import webdataset\n",
    "\n",
    "    print(\"webdataset already installed\")\n",
    "except:\n",
    "    !pip install --quiet webdataset\n",
    "\n",
    "!pip install --quiet transformers==4.22.2  # avoids left padding warning\n",
    "!pip install --quiet sentencepiece\n",
    "!pip install --quiet datasets"
   ]
  },
  {
   "cell_type": "code",
   "execution_count": 2,
   "metadata": {
    "colab": {
     "base_uri": "https://localhost:8080/",
     "height": 243,
     "referenced_widgets": [
      "5011003a97364ffbaf0ba5c49f40a856",
      "8a24d38e49e845e68f949fd7e950c547",
      "11d4db32b02f45b89455ae3c7c1b48e7",
      "f68aa4ffbe37471ab728a5bfdd96a162",
      "a53f2b82f0c5473f887c87415441c851",
      "f6a5e728da38475fbbda774a43f529fb",
      "5e417069faed471392193db141b2851b",
      "4cb67b0c60bb4b1ba719897a2baac500",
      "1dc2b10916f14ee58c92be8159cf2e1e",
      "dcf507a023d24a29b56e871f7ddb4c3b",
      "c8a631d4c2bd4b2a91d54ee394c8fc71"
     ]
    },
    "execution": {
     "iopub.execute_input": "2023-12-14T20:11:47.807420Z",
     "iopub.status.busy": "2023-12-14T20:11:47.806487Z",
     "iopub.status.idle": "2023-12-14T20:11:48.210130Z",
     "shell.execute_reply": "2023-12-14T20:11:48.209361Z"
    },
    "id": "jrEQw7TXLqxC",
    "outputId": "8957bc2d-b768-4ad9-edba-d610f805b071"
   },
   "outputs": [],
   "source": [
    "import uuid\n",
    "import webdataset as wds\n",
    "import os\n",
    "\n",
    "from transformers import GPT2LMHeadModel, GPT2Tokenizer\n",
    "from transformers import pipeline\n",
    "import textwrap"
   ]
  },
  {
   "cell_type": "code",
   "execution_count": 3,
   "metadata": {
    "execution": {
     "iopub.execute_input": "2023-12-14T20:11:48.214861Z",
     "iopub.status.busy": "2023-12-14T20:11:48.214670Z",
     "iopub.status.idle": "2023-12-14T20:12:00.658164Z",
     "shell.execute_reply": "2023-12-14T20:12:00.657573Z"
    }
   },
   "outputs": [
    {
     "data": {
      "application/vnd.jupyter.widget-view+json": {
       "model_id": "b6686c0475fc486f9e7bdcb65f74a22e",
       "version_major": 2,
       "version_minor": 0
      },
      "text/plain": [
       "pytorch_model.bin:   0%|          | 0.00/548M [00:00<?, ?B/s]"
      ]
     },
     "metadata": {},
     "output_type": "display_data"
    },
    {
     "name": "stdout",
     "output_type": "stream",
     "text": [
      "\n",
      "Climbing to an airport will be considered in a state-wide public\n",
      "transportation plan which calls for an integrated plan, such as\n",
      "the HRT system as a part of the HRT program, to make the commute\n",
      "more affordable and convenient.  It will also improve the safety\n",
      "of passengers traveling on public public transit.  The state's\n",
      "transportation minister, John Ewing, says the plan includes\n",
      "funding improvements to the passenger train and other systems.\n",
      "He says the plan will help with\n"
     ]
    }
   ],
   "source": [
    "# text generation with Huggingface and GPT2\n",
    "\n",
    "tokenizer = GPT2Tokenizer.from_pretrained(\"gpt2\", padding_side=\"left\")\n",
    "tokenizer.pad_token = tokenizer.eos_token\n",
    "model = GPT2LMHeadModel.from_pretrained(\"gpt2\")\n",
    "generator = pipeline(\"text-generation\", model=model, tokenizer=tokenizer)\n",
    "\n",
    "\n",
    "def generate(n, prompt=\"\"):\n",
    "    \"\"\"Generate n words of text, starting with prompt.\"\"\"\n",
    "    global tokenizer, model, generator\n",
    "    output = generator(\n",
    "        prompt,\n",
    "        max_length=n + len(tokenizer.encode(prompt)),\n",
    "        do_sample=True,\n",
    "        temperature=0.99,\n",
    "        top_k=50,\n",
    "        top_p=0.99,\n",
    "        num_return_sequences=1,\n",
    "        pad_token_id=tokenizer.eos_token_id,\n",
    "    )[0]\n",
    "    return output[\"generated_text\"]\n",
    "\n",
    "\n",
    "text = generate(100).strip()\n",
    "print()\n",
    "print(textwrap.fill(text, 64))"
   ]
  },
  {
   "cell_type": "code",
   "execution_count": 4,
   "metadata": {
    "execution": {
     "iopub.execute_input": "2023-12-14T20:12:00.662745Z",
     "iopub.status.busy": "2023-12-14T20:12:00.662553Z",
     "iopub.status.idle": "2023-12-14T20:12:26.834966Z",
     "shell.execute_reply": "2023-12-14T20:12:26.832859Z"
    },
    "id": "ElUfC0IbaPnR"
   },
   "outputs": [
    {
     "name": "stdout",
     "output_type": "stream",
     "text": [
      "     0 : '\"The most popular idea in the world is'\n",
      "-rw-rw-r-- 1 tmb tmb 30720 Dec 14 12:12 temp.tar\r\n",
      "16695b14575a4b999db75db22e06fd82.txt.gz\r\n",
      "f5365f12aa9b472780e6183887654cfc.txt.gz\r\n",
      "57f17e34b86546749a61f7ee77b28204.txt.gz\r\n",
      "c95b636e340a4da6a418820b47d21b02.txt.gz\r\n",
      "c482ea2148cc4f1a9aad02b1a6a18c79.txt.gz\r\n"
     ]
    }
   ],
   "source": [
    "# function generating an entire shard using TarWriter\n",
    "\n",
    "\n",
    "def generate_shard(oname, nsamples=10000, ntokens=500, prefix=\"\"):\n",
    "    \"\"\"Generate a shard of samples with text.\n",
    "\n",
    "    Each sample has a \"__key__\" field and a \"txt.gz\" field.\n",
    "    That is, the individual text files are compressed automatically on write.\n",
    "    They will be automatically decompressed when read.\n",
    "    \"\"\"\n",
    "    with wds.TarWriter(oname) as output:\n",
    "        for i in range(nsamples):\n",
    "            text = generate(100).strip()\n",
    "            key = uuid.uuid4().hex\n",
    "            text = generate(ntokens)\n",
    "            sample = {\"__key__\": key, \"txt.gz\": text}\n",
    "            output.write(sample)\n",
    "            if i % 10 == 0:\n",
    "                print(f\"{i:6d} {prefix}:\", repr(text)[:60])\n",
    "\n",
    "\n",
    "generate_shard(\"temp.tar\", nsamples=10, ntokens=10)\n",
    "!ls -l temp.tar\n",
    "!tar tf temp.tar | head -5"
   ]
  },
  {
   "cell_type": "code",
   "execution_count": 5,
   "metadata": {
    "execution": {
     "iopub.execute_input": "2023-12-14T20:12:26.841631Z",
     "iopub.status.busy": "2023-12-14T20:12:26.841021Z",
     "iopub.status.idle": "2023-12-14T20:12:26.849853Z",
     "shell.execute_reply": "2023-12-14T20:12:26.848222Z"
    },
    "id": "u6I69B4FbPbk"
   },
   "outputs": [],
   "source": [
    "# We need a couple of simple functions to upload to the cloud.\n",
    "\n",
    "\n",
    "def cloud_exists(oname):\n",
    "    \"\"\"Check whether a file exists in the cloud.\"\"\"\n",
    "    # return os.system(f\"gsutil stat gs://mybucket/500tokens/{oname}\") == 0\n",
    "    return True\n",
    "\n",
    "\n",
    "def cloud_upload(oname):\n",
    "    \"\"\"Upload a file to the cloud.\"\"\"\n",
    "    # assert os.system(f\"gsutil cp {oname} gs://mybucket/500tokens/{oname}\") == 0\n",
    "    pass"
   ]
  },
  {
   "cell_type": "code",
   "execution_count": 6,
   "metadata": {
    "execution": {
     "iopub.execute_input": "2023-12-14T20:12:26.855694Z",
     "iopub.status.busy": "2023-12-14T20:12:26.855138Z",
     "iopub.status.idle": "2023-12-14T20:12:26.864401Z",
     "shell.execute_reply": "2023-12-14T20:12:26.862734Z"
    }
   },
   "outputs": [],
   "source": [
    "# We can now generate a shard and upload it to the cloud.\n",
    "# We skip the generation if the file already exists in the cloud.\n",
    "\n",
    "\n",
    "def generate_and_upload(i):\n",
    "    \"\"\"Generate a shard and upload it to the cloud.\"\"\"\n",
    "    oname = f\"text-{i:06d}.tar\"\n",
    "    if cloud_exists(oname):\n",
    "        print(f\"{oname} already exists, skipping\")\n",
    "        return False\n",
    "    generate_shard(oname, nsamples=1000, ntokens=500, prefix=f\"{i:6d} {oname}\")\n",
    "    cloud_upload(oname)\n",
    "    os.remove(oname)\n",
    "    return True"
   ]
  },
  {
   "cell_type": "code",
   "execution_count": 7,
   "metadata": {
    "execution": {
     "iopub.execute_input": "2023-12-14T20:12:26.870236Z",
     "iopub.status.busy": "2023-12-14T20:12:26.869686Z",
     "iopub.status.idle": "2023-12-14T20:12:26.877655Z",
     "shell.execute_reply": "2023-12-14T20:12:26.876030Z"
    }
   },
   "outputs": [
    {
     "name": "stdout",
     "output_type": "stream",
     "text": [
      "text-000000.tar already exists, skipping\n",
      "text-000001.tar already exists, skipping\n",
      "text-000002.tar already exists, skipping\n",
      "text-000003.tar already exists, skipping\n",
      "text-000004.tar already exists, skipping\n",
      "text-000005.tar already exists, skipping\n",
      "text-000006.tar already exists, skipping\n",
      "text-000007.tar already exists, skipping\n",
      "text-000008.tar already exists, skipping\n",
      "text-000009.tar already exists, skipping\n"
     ]
    }
   ],
   "source": [
    "# For sequential generation, use this\n",
    "\n",
    "for i in range(10):\n",
    "    generate_and_upload(i)"
   ]
  },
  {
   "cell_type": "code",
   "execution_count": 8,
   "metadata": {
    "execution": {
     "iopub.execute_input": "2023-12-14T20:12:26.883831Z",
     "iopub.status.busy": "2023-12-14T20:12:26.882794Z",
     "iopub.status.idle": "2023-12-14T20:12:26.915991Z",
     "shell.execute_reply": "2023-12-14T20:12:26.914306Z"
    },
    "id": "rjtefVDI-DfZ"
   },
   "outputs": [],
   "source": [
    "%%script true\n",
    "# For parallel generation, use this\n",
    "\n",
    "import ray\n",
    "\n",
    "@ray.remote(num_cpus=1, num_gpus=1)\n",
    "def ray_generate_and_upload(i):\n",
    "    \"\"\"A Ray remote function that generates a shard and uploads it to the cloud.\"\"\"\n",
    "    return generate_and_upload(i)\n",
    "\n",
    "def generate_shards(nshards=10):\n",
    "    \"\"\"Generate a number of shards and upload them to the cloud.\n",
    "    \n",
    "    Runs in parallel on a Ray cluster.\n",
    "    \"\"\"\n",
    "    ray.init(address='auto')  # Connect to the Ray cluster\n",
    "    tasks = [ray_generate_and_upload.remote(i) for i in range(nshards)]\n",
    "    ray.shutdown()\n",
    "    return shard_names"
   ]
  },
  {
   "cell_type": "code",
   "execution_count": null,
   "metadata": {},
   "outputs": [],
   "source": []
  }
 ],
 "metadata": {
  "accelerator": "GPU",
  "colab": {
   "gpuType": "V100",
   "provenance": []
  },
  "kernelspec": {
   "display_name": "Python 3",
   "name": "python3"
  },
  "language_info": {
   "codemirror_mode": {
    "name": "ipython",
    "version": 3
   },
   "file_extension": ".py",
   "mimetype": "text/x-python",
   "name": "python",
   "nbconvert_exporter": "python",
   "pygments_lexer": "ipython3",
   "version": "3.10.12"
  },
  "widgets": {
   "application/vnd.jupyter.widget-state+json": {
    "state": {
     "10572a0aa34648ba8e0768c4612566df": {
      "model_module": "@jupyter-widgets/controls",
      "model_module_version": "2.0.0",
      "model_name": "HTMLStyleModel",
      "state": {
       "_model_module": "@jupyter-widgets/controls",
       "_model_module_version": "2.0.0",
       "_model_name": "HTMLStyleModel",
       "_view_count": null,
       "_view_module": "@jupyter-widgets/base",
       "_view_module_version": "2.0.0",
       "_view_name": "StyleView",
       "background": null,
       "description_width": "",
       "font_size": null,
       "text_color": null
      }
     },
     "151ab6b6684d4490984c7ecc43a774e5": {
      "model_module": "@jupyter-widgets/controls",
      "model_module_version": "2.0.0",
      "model_name": "ProgressStyleModel",
      "state": {
       "_model_module": "@jupyter-widgets/controls",
       "_model_module_version": "2.0.0",
       "_model_name": "ProgressStyleModel",
       "_view_count": null,
       "_view_module": "@jupyter-widgets/base",
       "_view_module_version": "2.0.0",
       "_view_name": "StyleView",
       "bar_color": null,
       "description_width": ""
      }
     },
     "2cde93f5a8244c958b8a61a236602a13": {
      "model_module": "@jupyter-widgets/base",
      "model_module_version": "2.0.0",
      "model_name": "LayoutModel",
      "state": {
       "_model_module": "@jupyter-widgets/base",
       "_model_module_version": "2.0.0",
       "_model_name": "LayoutModel",
       "_view_count": null,
       "_view_module": "@jupyter-widgets/base",
       "_view_module_version": "2.0.0",
       "_view_name": "LayoutView",
       "align_content": null,
       "align_items": null,
       "align_self": null,
       "border_bottom": null,
       "border_left": null,
       "border_right": null,
       "border_top": null,
       "bottom": null,
       "display": null,
       "flex": null,
       "flex_flow": null,
       "grid_area": null,
       "grid_auto_columns": null,
       "grid_auto_flow": null,
       "grid_auto_rows": null,
       "grid_column": null,
       "grid_gap": null,
       "grid_row": null,
       "grid_template_areas": null,
       "grid_template_columns": null,
       "grid_template_rows": null,
       "height": null,
       "justify_content": null,
       "justify_items": null,
       "left": null,
       "margin": null,
       "max_height": null,
       "max_width": null,
       "min_height": null,
       "min_width": null,
       "object_fit": null,
       "object_position": null,
       "order": null,
       "overflow": null,
       "padding": null,
       "right": null,
       "top": null,
       "visibility": null,
       "width": null
      }
     },
     "316191e528d74a4cac49c23e0b097292": {
      "model_module": "@jupyter-widgets/controls",
      "model_module_version": "2.0.0",
      "model_name": "HTMLModel",
      "state": {
       "_dom_classes": [],
       "_model_module": "@jupyter-widgets/controls",
       "_model_module_version": "2.0.0",
       "_model_name": "HTMLModel",
       "_view_count": null,
       "_view_module": "@jupyter-widgets/controls",
       "_view_module_version": "2.0.0",
       "_view_name": "HTMLView",
       "description": "",
       "description_allow_html": false,
       "layout": "IPY_MODEL_8ea3e49568b0418cbc29ec6a3e884e28",
       "placeholder": "​",
       "style": "IPY_MODEL_da13899216104cabbb21d4ed6fb4c67b",
       "tabbable": null,
       "tooltip": null,
       "value": "pytorch_model.bin: 100%"
      }
     },
     "415b2398fa52429ca666f3e59dddc385": {
      "model_module": "@jupyter-widgets/controls",
      "model_module_version": "2.0.0",
      "model_name": "FloatProgressModel",
      "state": {
       "_dom_classes": [],
       "_model_module": "@jupyter-widgets/controls",
       "_model_module_version": "2.0.0",
       "_model_name": "FloatProgressModel",
       "_view_count": null,
       "_view_module": "@jupyter-widgets/controls",
       "_view_module_version": "2.0.0",
       "_view_name": "ProgressView",
       "bar_style": "success",
       "description": "",
       "description_allow_html": false,
       "layout": "IPY_MODEL_ce85f02129354e6ca97ef06b84d91478",
       "max": 548118077.0,
       "min": 0.0,
       "orientation": "horizontal",
       "style": "IPY_MODEL_151ab6b6684d4490984c7ecc43a774e5",
       "tabbable": null,
       "tooltip": null,
       "value": 548118077.0
      }
     },
     "89ad85e1d73048f4b59e2f86c6a086c5": {
      "model_module": "@jupyter-widgets/controls",
      "model_module_version": "2.0.0",
      "model_name": "HTMLModel",
      "state": {
       "_dom_classes": [],
       "_model_module": "@jupyter-widgets/controls",
       "_model_module_version": "2.0.0",
       "_model_name": "HTMLModel",
       "_view_count": null,
       "_view_module": "@jupyter-widgets/controls",
       "_view_module_version": "2.0.0",
       "_view_name": "HTMLView",
       "description": "",
       "description_allow_html": false,
       "layout": "IPY_MODEL_2cde93f5a8244c958b8a61a236602a13",
       "placeholder": "​",
       "style": "IPY_MODEL_10572a0aa34648ba8e0768c4612566df",
       "tabbable": null,
       "tooltip": null,
       "value": " 548M/548M [00:07&lt;00:00, 75.3MB/s]"
      }
     },
     "8ea3e49568b0418cbc29ec6a3e884e28": {
      "model_module": "@jupyter-widgets/base",
      "model_module_version": "2.0.0",
      "model_name": "LayoutModel",
      "state": {
       "_model_module": "@jupyter-widgets/base",
       "_model_module_version": "2.0.0",
       "_model_name": "LayoutModel",
       "_view_count": null,
       "_view_module": "@jupyter-widgets/base",
       "_view_module_version": "2.0.0",
       "_view_name": "LayoutView",
       "align_content": null,
       "align_items": null,
       "align_self": null,
       "border_bottom": null,
       "border_left": null,
       "border_right": null,
       "border_top": null,
       "bottom": null,
       "display": null,
       "flex": null,
       "flex_flow": null,
       "grid_area": null,
       "grid_auto_columns": null,
       "grid_auto_flow": null,
       "grid_auto_rows": null,
       "grid_column": null,
       "grid_gap": null,
       "grid_row": null,
       "grid_template_areas": null,
       "grid_template_columns": null,
       "grid_template_rows": null,
       "height": null,
       "justify_content": null,
       "justify_items": null,
       "left": null,
       "margin": null,
       "max_height": null,
       "max_width": null,
       "min_height": null,
       "min_width": null,
       "object_fit": null,
       "object_position": null,
       "order": null,
       "overflow": null,
       "padding": null,
       "right": null,
       "top": null,
       "visibility": null,
       "width": null
      }
     },
     "b6686c0475fc486f9e7bdcb65f74a22e": {
      "model_module": "@jupyter-widgets/controls",
      "model_module_version": "2.0.0",
      "model_name": "HBoxModel",
      "state": {
       "_dom_classes": [],
       "_model_module": "@jupyter-widgets/controls",
       "_model_module_version": "2.0.0",
       "_model_name": "HBoxModel",
       "_view_count": null,
       "_view_module": "@jupyter-widgets/controls",
       "_view_module_version": "2.0.0",
       "_view_name": "HBoxView",
       "box_style": "",
       "children": [
        "IPY_MODEL_316191e528d74a4cac49c23e0b097292",
        "IPY_MODEL_415b2398fa52429ca666f3e59dddc385",
        "IPY_MODEL_89ad85e1d73048f4b59e2f86c6a086c5"
       ],
       "layout": "IPY_MODEL_f5a5c86d851b42e9af249dfa883672b5",
       "tabbable": null,
       "tooltip": null
      }
     },
     "ce85f02129354e6ca97ef06b84d91478": {
      "model_module": "@jupyter-widgets/base",
      "model_module_version": "2.0.0",
      "model_name": "LayoutModel",
      "state": {
       "_model_module": "@jupyter-widgets/base",
       "_model_module_version": "2.0.0",
       "_model_name": "LayoutModel",
       "_view_count": null,
       "_view_module": "@jupyter-widgets/base",
       "_view_module_version": "2.0.0",
       "_view_name": "LayoutView",
       "align_content": null,
       "align_items": null,
       "align_self": null,
       "border_bottom": null,
       "border_left": null,
       "border_right": null,
       "border_top": null,
       "bottom": null,
       "display": null,
       "flex": null,
       "flex_flow": null,
       "grid_area": null,
       "grid_auto_columns": null,
       "grid_auto_flow": null,
       "grid_auto_rows": null,
       "grid_column": null,
       "grid_gap": null,
       "grid_row": null,
       "grid_template_areas": null,
       "grid_template_columns": null,
       "grid_template_rows": null,
       "height": null,
       "justify_content": null,
       "justify_items": null,
       "left": null,
       "margin": null,
       "max_height": null,
       "max_width": null,
       "min_height": null,
       "min_width": null,
       "object_fit": null,
       "object_position": null,
       "order": null,
       "overflow": null,
       "padding": null,
       "right": null,
       "top": null,
       "visibility": null,
       "width": null
      }
     },
     "da13899216104cabbb21d4ed6fb4c67b": {
      "model_module": "@jupyter-widgets/controls",
      "model_module_version": "2.0.0",
      "model_name": "HTMLStyleModel",
      "state": {
       "_model_module": "@jupyter-widgets/controls",
       "_model_module_version": "2.0.0",
       "_model_name": "HTMLStyleModel",
       "_view_count": null,
       "_view_module": "@jupyter-widgets/base",
       "_view_module_version": "2.0.0",
       "_view_name": "StyleView",
       "background": null,
       "description_width": "",
       "font_size": null,
       "text_color": null
      }
     },
     "f5a5c86d851b42e9af249dfa883672b5": {
      "model_module": "@jupyter-widgets/base",
      "model_module_version": "2.0.0",
      "model_name": "LayoutModel",
      "state": {
       "_model_module": "@jupyter-widgets/base",
       "_model_module_version": "2.0.0",
       "_model_name": "LayoutModel",
       "_view_count": null,
       "_view_module": "@jupyter-widgets/base",
       "_view_module_version": "2.0.0",
       "_view_name": "LayoutView",
       "align_content": null,
       "align_items": null,
       "align_self": null,
       "border_bottom": null,
       "border_left": null,
       "border_right": null,
       "border_top": null,
       "bottom": null,
       "display": null,
       "flex": null,
       "flex_flow": null,
       "grid_area": null,
       "grid_auto_columns": null,
       "grid_auto_flow": null,
       "grid_auto_rows": null,
       "grid_column": null,
       "grid_gap": null,
       "grid_row": null,
       "grid_template_areas": null,
       "grid_template_columns": null,
       "grid_template_rows": null,
       "height": null,
       "justify_content": null,
       "justify_items": null,
       "left": null,
       "margin": null,
       "max_height": null,
       "max_width": null,
       "min_height": null,
       "min_width": null,
       "object_fit": null,
       "object_position": null,
       "order": null,
       "overflow": null,
       "padding": null,
       "right": null,
       "top": null,
       "visibility": null,
       "width": null
      }
     }
    },
    "version_major": 2,
    "version_minor": 0
   }
  }
 },
 "nbformat": 4,
 "nbformat_minor": 0
}
