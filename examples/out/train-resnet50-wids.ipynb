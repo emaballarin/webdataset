{
 "cells": [
  {
   "cell_type": "code",
   "execution_count": 1,
   "id": "51f832f5",
   "metadata": {
    "execution": {
     "iopub.execute_input": "2023-12-18T08:07:06.177213Z",
     "iopub.status.busy": "2023-12-18T08:07:06.176924Z",
     "iopub.status.idle": "2023-12-18T08:07:08.385233Z",
     "shell.execute_reply": "2023-12-18T08:07:08.384442Z"
    },
    "papermill": {
     "duration": 2.216329,
     "end_time": "2023-12-18T08:07:08.388581",
     "exception": false,
     "start_time": "2023-12-18T08:07:06.172252",
     "status": "completed"
    },
    "tags": []
   },
   "outputs": [],
   "source": [
    "%matplotlib inline\n",
    "\n",
    "from functools import partial\n",
    "from pprint import pprint\n",
    "import random\n",
    "from collections import deque\n",
    "import numpy as np\n",
    "from matplotlib import pyplot as plt\n",
    "\n",
    "import torch\n",
    "import torchvision\n",
    "import torchvision.transforms as transforms\n",
    "from torchvision.models import resnet50\n",
    "from torch.utils.data import DataLoader\n",
    "from torch import nn, optim\n",
    "import wids"
   ]
  },
  {
   "cell_type": "code",
   "execution_count": 2,
   "id": "d941678f",
   "metadata": {
    "execution": {
     "iopub.execute_input": "2023-12-18T08:07:08.400260Z",
     "iopub.status.busy": "2023-12-18T08:07:08.399987Z",
     "iopub.status.idle": "2023-12-18T08:07:08.403830Z",
     "shell.execute_reply": "2023-12-18T08:07:08.403217Z"
    },
    "papermill": {
     "duration": 0.012929,
     "end_time": "2023-12-18T08:07:08.406995",
     "exception": false,
     "start_time": "2023-12-18T08:07:08.394066",
     "status": "completed"
    },
    "tags": [
     "parameters"
    ]
   },
   "outputs": [],
   "source": [
    "# parameters\n",
    "epochs = 3\n",
    "max_steps = 100000\n",
    "batch_size = 32\n",
    "bucket = \"https://storage.googleapis.com/webdataset/fake-imagenet/\"\n",
    "num_workers = 4\n",
    "cache_dir = \"./_cache\""
   ]
  },
  {
   "cell_type": "code",
   "execution_count": 3,
   "id": "457e57ee",
   "metadata": {
    "execution": {
     "iopub.execute_input": "2023-12-18T08:07:08.417423Z",
     "iopub.status.busy": "2023-12-18T08:07:08.417237Z",
     "iopub.status.idle": "2023-12-18T08:07:08.420538Z",
     "shell.execute_reply": "2023-12-18T08:07:08.419930Z"
    },
    "papermill": {
     "duration": 0.012124,
     "end_time": "2023-12-18T08:07:08.423760",
     "exception": false,
     "start_time": "2023-12-18T08:07:08.411636",
     "status": "completed"
    },
    "tags": [
     "injected-parameters"
    ]
   },
   "outputs": [],
   "source": [
    "# Parameters\n",
    "max_steps = 10000\n"
   ]
  },
  {
   "cell_type": "code",
   "execution_count": 4,
   "id": "5f37f557",
   "metadata": {
    "execution": {
     "iopub.execute_input": "2023-12-18T08:07:08.434615Z",
     "iopub.status.busy": "2023-12-18T08:07:08.434239Z",
     "iopub.status.idle": "2023-12-18T08:07:08.439154Z",
     "shell.execute_reply": "2023-12-18T08:07:08.438216Z"
    },
    "papermill": {
     "duration": 0.013834,
     "end_time": "2023-12-18T08:07:08.442254",
     "exception": false,
     "start_time": "2023-12-18T08:07:08.428420",
     "status": "completed"
    },
    "tags": []
   },
   "outputs": [],
   "source": [
    "# helpers\n",
    "\n",
    "import time\n",
    "\n",
    "\n",
    "def enumerate_report(seq, delta, growth=1.0):\n",
    "    last = 0\n",
    "    count = 0\n",
    "    for count, item in enumerate(seq):\n",
    "        now = time.time()\n",
    "        if now - last > delta:\n",
    "            last = now\n",
    "            yield count, item, True\n",
    "        else:\n",
    "            yield count, item, False\n",
    "        delta *= growth"
   ]
  },
  {
   "cell_type": "code",
   "execution_count": 5,
   "id": "5fbdbcc1",
   "metadata": {
    "execution": {
     "iopub.execute_input": "2023-12-18T08:07:08.453706Z",
     "iopub.status.busy": "2023-12-18T08:07:08.453356Z",
     "iopub.status.idle": "2023-12-18T08:07:08.461374Z",
     "shell.execute_reply": "2023-12-18T08:07:08.460382Z"
    },
    "papermill": {
     "duration": 0.017358,
     "end_time": "2023-12-18T08:07:08.464442",
     "exception": false,
     "start_time": "2023-12-18T08:07:08.447084",
     "status": "completed"
    },
    "tags": []
   },
   "outputs": [],
   "source": [
    "# The standard TorchVision transformations.\n",
    "\n",
    "transform_train = transforms.Compose(\n",
    "    [\n",
    "        transforms.RandomResizedCrop(224),\n",
    "        transforms.RandomHorizontalFlip(),\n",
    "        transforms.ToTensor(),\n",
    "        transforms.Normalize(mean=[0.485, 0.456, 0.406], std=[0.229, 0.224, 0.225]),\n",
    "    ]\n",
    ")\n",
    "\n",
    "transform_val = transforms.Compose(\n",
    "    [\n",
    "        transforms.Resize(256),\n",
    "        transforms.CenterCrop(224),\n",
    "        transforms.ToTensor(),\n",
    "        transforms.Normalize(mean=[0.485, 0.456, 0.406], std=[0.229, 0.224, 0.225]),\n",
    "    ]\n",
    ")\n",
    "\n",
    "# The dataset returns dictionaries. This is a small function we transform it\n",
    "# with to get the augmented image and the label.\n",
    "\n",
    "\n",
    "def make_sample(sample, val=False):\n",
    "    image = sample[\".jpg\"]\n",
    "    label = sample[\".cls\"]\n",
    "    if val:\n",
    "        return transform_val(image), label\n",
    "    else:\n",
    "        return transform_train(image), label"
   ]
  },
  {
   "cell_type": "code",
   "execution_count": 6,
   "id": "9386bb8d",
   "metadata": {
    "execution": {
     "iopub.execute_input": "2023-12-18T08:07:08.476096Z",
     "iopub.status.busy": "2023-12-18T08:07:08.475734Z",
     "iopub.status.idle": "2023-12-18T08:07:09.246987Z",
     "shell.execute_reply": "2023-12-18T08:07:09.245651Z"
    },
    "papermill": {
     "duration": 0.781493,
     "end_time": "2023-12-18T08:07:09.250771",
     "exception": false,
     "start_time": "2023-12-18T08:07:08.469278",
     "status": "completed"
    },
    "tags": []
   },
   "outputs": [
    {
     "name": "stderr",
     "output_type": "stream",
     "text": [
      "https://storage.googleapis.com/webdataset/fake-ima base: https://storage.googleapis.com/webdataset/fake-imagenet name: imagenet-train nfiles: 1282 nbytes: 31242280960 samples: 128200 cache: ./_cache\n"
     ]
    },
    {
     "name": "stderr",
     "output_type": "stream",
     "text": [
      "https://storage.googleapis.com/webdataset/fake-ima base: https://storage.googleapis.com/webdataset/fake-imagenet name: imagenet-val nfiles: 50 nbytes: 1219143680 samples: 5000 cache: ./_cache\n"
     ]
    },
    {
     "data": {
      "text/plain": [
       "{'.cls': 6,\n",
       " '.jpg': <PIL.JpegImagePlugin.JpegImageFile image mode=RGB size=512x512>,\n",
       " '.txt': 'a high quality color photograph of a lion',\n",
       " '__key__': '000000-000003',\n",
       " '__dataset__': None,\n",
       " '__index__': 0,\n",
       " '__shard__': 'https://storage.googleapis.com/webdataset/fake-imagenet/imagenet-train-000000.tar',\n",
       " '__shardindex__': 0}"
      ]
     },
     "execution_count": 6,
     "metadata": {},
     "output_type": "execute_result"
    }
   ],
   "source": [
    "# These are standard PyTorch datasets. Download is incremental into the cache.\n",
    "\n",
    "trainset = wids.ShardListDataset(\n",
    "    bucket+\"imagenet-train.json\", cache_dir=cache_dir, keep=True\n",
    ")\n",
    "valset = wids.ShardListDataset(\n",
    "    bucket+\"imagenet-val.json\", cache_dir=cache_dir, keep=True\n",
    ")\n",
    "\n",
    "trainset[0]"
   ]
  },
  {
   "cell_type": "code",
   "execution_count": 7,
   "id": "ebb601aa",
   "metadata": {
    "execution": {
     "iopub.execute_input": "2023-12-18T08:07:09.264653Z",
     "iopub.status.busy": "2023-12-18T08:07:09.264255Z",
     "iopub.status.idle": "2023-12-18T08:07:09.290057Z",
     "shell.execute_reply": "2023-12-18T08:07:09.289243Z"
    },
    "papermill": {
     "duration": 0.034928,
     "end_time": "2023-12-18T08:07:09.292076",
     "exception": false,
     "start_time": "2023-12-18T08:07:09.257148",
     "status": "completed"
    },
    "tags": []
   },
   "outputs": [
    {
     "name": "stdout",
     "output_type": "stream",
     "text": [
      "torch.Size([3, 224, 224]) 6\n"
     ]
    }
   ],
   "source": [
    "# Next, we add the transformation to the dataset. Transformations\n",
    "# are executed in sequence. In fact, by default, there is a transformation\n",
    "# that reads and decodes images.\n",
    "\n",
    "trainset.add_transform(make_sample)\n",
    "valset.add_transform(partial(make_sample, val=True))\n",
    "\n",
    "print(trainset[0][0].shape, trainset[0][1])"
   ]
  },
  {
   "cell_type": "code",
   "execution_count": 8,
   "id": "b39e76bc",
   "metadata": {
    "execution": {
     "iopub.execute_input": "2023-12-18T08:07:09.299889Z",
     "iopub.status.busy": "2023-12-18T08:07:09.299498Z",
     "iopub.status.idle": "2023-12-18T08:07:09.532940Z",
     "shell.execute_reply": "2023-12-18T08:07:09.532321Z"
    },
    "papermill": {
     "duration": 0.239314,
     "end_time": "2023-12-18T08:07:09.534590",
     "exception": false,
     "start_time": "2023-12-18T08:07:09.295276",
     "status": "completed"
    },
    "tags": []
   },
   "outputs": [
    {
     "name": "stderr",
     "output_type": "stream",
     "text": [
      "/home/tmb/proj/webdataset/wids/wids.py:740: UserWarning: DistributedChunkedSampler is called without distributed initialized; assuming single process\n",
      "  warnings.warn(\n"
     ]
    },
    {
     "data": {
      "image/png": "[encoded data removed]",
      "text/plain": [
       "<Figure size 640x480 with 1 Axes>"
      ]
     },
     "metadata": {},
     "output_type": "display_data"
    }
   ],
   "source": [
    "# We also need a sampler for the training set. There are three\n",
    "# special samplers in the `wids` package that work particularly\n",
    "# well with sharded datasets:\n",
    "# - `wids.ShardedSampler` shuffles shards and then samples in shards;\n",
    "#   it guarantees that only one shard is used at a time\n",
    "# - `wids.ChunkedSampler` samples by fixed sized chunks, shuffles\n",
    "#   the chunks, and the the samples within each chunk\n",
    "# - `wids.DistributedChunkedSampler` is like `ChunkedSampler` but\n",
    "#   works with distributed training (it first divides the entire\n",
    "#   dataset into per-node chunks, then the per-node chunks into\n",
    "#   smaller chunks, then shuffles the smaller chunks)\n",
    "\n",
    "# trainsampler = wids.ShardedSampler(trainset)\n",
    "# trainsampler = wids.ChunkedSampler(trainset, chunksize=1000, shuffle=True)\n",
    "trainsampler = wids.DistributedChunkedSampler(trainset, chunksize=1000, shuffle=True)\n",
    "\n",
    "plt.plot(list(trainsampler)[:2500])\n",
    "\n",
    "# Note that the sampler shuffles within each shard before moving on to\n",
    "# the next shard. Furthermore, on the first epoch, the sampler\n",
    "# uses the shards in order, but on subsequent epochs, it shuffles\n",
    "# them. This makes testing and debugging easier. If you don't like\n",
    "# this behavior, you can use shufflefirst=True\n",
    "\n",
    "trainsampler.set_epoch(0)"
   ]
  },
  {
   "cell_type": "code",
   "execution_count": 9,
   "id": "17890256",
   "metadata": {
    "execution": {
     "iopub.execute_input": "2023-12-18T08:07:09.543317Z",
     "iopub.status.busy": "2023-12-18T08:07:09.543099Z",
     "iopub.status.idle": "2023-12-18T08:07:10.091435Z",
     "shell.execute_reply": "2023-12-18T08:07:10.090728Z"
    },
    "papermill": {
     "duration": 0.555114,
     "end_time": "2023-12-18T08:07:10.093942",
     "exception": false,
     "start_time": "2023-12-18T08:07:09.538828",
     "status": "completed"
    },
    "tags": []
   },
   "outputs": [
    {
     "name": "stdout",
     "output_type": "stream",
     "text": [
      "torch.Size([32, 3, 224, 224]) torch.Size([32])\n"
     ]
    }
   ],
   "source": [
    "# Create data loaders for the training and validation datasets\n",
    "\n",
    "trainloader = DataLoader(trainset, batch_size=batch_size, num_workers=4, sampler=trainsampler)\n",
    "valloader = DataLoader(valset, batch_size=batch_size, shuffle=False, num_workers=4)\n",
    "\n",
    "images, classes = next(iter(trainloader))\n",
    "print(images.shape, classes.shape)"
   ]
  },
  {
   "cell_type": "code",
   "execution_count": 10,
   "id": "6771e961",
   "metadata": {
    "execution": {
     "iopub.execute_input": "2023-12-18T08:07:10.108464Z",
     "iopub.status.busy": "2023-12-18T08:07:10.108265Z",
     "iopub.status.idle": "2023-12-18T08:07:12.114638Z",
     "shell.execute_reply": "2023-12-18T08:07:12.113645Z"
    },
    "papermill": {
     "duration": 2.017025,
     "end_time": "2023-12-18T08:07:12.117869",
     "exception": false,
     "start_time": "2023-12-18T08:07:10.100844",
     "status": "completed"
    },
    "tags": []
   },
   "outputs": [
    {
     "name": "stderr",
     "output_type": "stream",
     "text": [
      "/home/tmb/proj/webdataset/venv/lib/python3.10/site-packages/torchvision/models/_utils.py:208: UserWarning: The parameter 'pretrained' is deprecated since 0.13 and may be removed in the future, please use 'weights' instead.\n",
      "  warnings.warn(\n",
      "/home/tmb/proj/webdataset/venv/lib/python3.10/site-packages/torchvision/models/_utils.py:223: UserWarning: Arguments other than a weight enum or `None` for 'weights' are deprecated since 0.13 and may be removed in the future. The current behavior is equivalent to passing `weights=None`.\n",
      "  warnings.warn(msg)\n"
     ]
    }
   ],
   "source": [
    "# The usual PyTorch model definition. We use an uninitialized ResNet50 model.\n",
    "\n",
    "model = resnet50(pretrained=False)\n",
    "\n",
    "# Define the loss function and optimizer\n",
    "criterion = nn.CrossEntropyLoss()\n",
    "optimizer = optim.SGD(model.parameters(), lr=0.01, momentum=0.9, weight_decay=5e-4)\n",
    "\n",
    "# Move the model to the GPU if available\n",
    "device = torch.device(\"cuda:0\" if torch.cuda.is_available() else \"cpu\")\n",
    "model = model.to(device)"
   ]
  },
  {
   "cell_type": "code",
   "execution_count": 11,
   "id": "2c03980d",
   "metadata": {
    "execution": {
     "iopub.execute_input": "2023-12-18T08:07:12.135168Z",
     "iopub.status.busy": "2023-12-18T08:07:12.134833Z",
     "iopub.status.idle": "2023-12-18T08:08:17.720615Z",
     "shell.execute_reply": "2023-12-18T08:08:17.719937Z"
    },
    "papermill": {
     "duration": 65.595997,
     "end_time": "2023-12-18T08:08:17.722244",
     "exception": false,
     "start_time": "2023-12-18T08:07:12.126247",
     "status": "completed"
    },
    "tags": []
   },
   "outputs": [
    {
     "name": "stdout",
     "output_type": "stream",
     "text": [
      "[1,    18] loss: 4.92214 correct: 0.06597\n"
     ]
    },
    {
     "name": "stdout",
     "output_type": "stream",
     "text": [
      "[1,    44] loss: 4.47568 correct: 0.07315\n"
     ]
    },
    {
     "name": "stdout",
     "output_type": "stream",
     "text": [
      "[1,    70] loss: 4.05072 correct: 0.09420\n"
     ]
    },
    {
     "name": "stdout",
     "output_type": "stream",
     "text": [
      "[1,    95] loss: 3.76577 correct: 0.11086\n"
     ]
    },
    {
     "name": "stdout",
     "output_type": "stream",
     "text": [
      "[1,   120] loss: 3.29646 correct: 0.14625\n"
     ]
    },
    {
     "name": "stdout",
     "output_type": "stream",
     "text": [
      "[1,   146] loss: 2.90517 correct: 0.18688\n"
     ]
    },
    {
     "name": "stdout",
     "output_type": "stream",
     "text": [
      "[1,   171] loss: 2.69376 correct: 0.21656\n"
     ]
    },
    {
     "name": "stdout",
     "output_type": "stream",
     "text": [
      "[1,   196] loss: 2.50486 correct: 0.26656\n"
     ]
    },
    {
     "name": "stdout",
     "output_type": "stream",
     "text": [
      "[1,   221] loss: 2.35720 correct: 0.30719\n"
     ]
    },
    {
     "name": "stdout",
     "output_type": "stream",
     "text": [
      "[1,   246] loss: 2.22152 correct: 0.34719\n"
     ]
    },
    {
     "name": "stdout",
     "output_type": "stream",
     "text": [
      "[1,   271] loss: 2.09821 correct: 0.38562\n"
     ]
    },
    {
     "name": "stdout",
     "output_type": "stream",
     "text": [
      "[1,   296] loss: 2.01367 correct: 0.39969\n"
     ]
    },
    {
     "name": "stdout",
     "output_type": "stream",
     "text": [
      "Finished Training\n"
     ]
    }
   ],
   "source": [
    "losses, accuracies = deque(maxlen=100), deque(maxlen=100)\n",
    "\n",
    "steps = 0\n",
    "\n",
    "# Train the model\n",
    "for epoch in range(epochs):\n",
    "    for i, data, verbose in enumerate_report(trainloader, 5):\n",
    "        # get the inputs; data is a list of [inputs, labels]\n",
    "        inputs, labels = data[0].to(device), data[1].to(device)\n",
    "\n",
    "        # zero the parameter gradients\n",
    "        optimizer.zero_grad()\n",
    "\n",
    "        # forward + backward + optimize\n",
    "        outputs = model(inputs)\n",
    "        loss = criterion(outputs, labels)\n",
    "        loss.backward()\n",
    "        optimizer.step()\n",
    "\n",
    "        pred = outputs.cpu().detach().argmax(dim=1, keepdim=True)\n",
    "        correct = pred.eq(labels.cpu().view_as(pred)).sum().item()\n",
    "        accuracy = correct / float(len(labels))\n",
    "\n",
    "        losses.append(loss.item())\n",
    "        accuracies.append(accuracy)\n",
    "        steps += len(labels)\n",
    "\n",
    "        if verbose and len(losses) > 5:\n",
    "            print(\n",
    "                \"[%d, %5d] loss: %.5f correct: %.5f\"\n",
    "                % (epoch + 1, i + 1, np.mean(losses), np.mean(accuracies))\n",
    "            )\n",
    "            running_loss = 0.0\n",
    "\n",
    "        if steps > max_steps:\n",
    "            break\n",
    "    if steps > max_steps:\n",
    "        break\n",
    "\n",
    "print(\"Finished Training\")"
   ]
  }
 ],
 "metadata": {
  "kernelspec": {
   "display_name": "venv",
   "language": "python",
   "name": "python3"
  },
  "language_info": {
   "codemirror_mode": {
    "name": "ipython",
    "version": 3
   },
   "file_extension": ".py",
   "mimetype": "text/x-python",
   "name": "python",
   "nbconvert_exporter": "python",
   "pygments_lexer": "ipython3",
   "version": "3.10.12"
  },
  "papermill": {
   "default_parameters": {},
   "duration": 73.560731,
   "end_time": "2023-12-18T08:08:18.846571",
   "environment_variables": {},
   "exception": null,
   "input_path": "train-resnet50-wids.ipynb",
   "output_path": "out/_train-resnet50-wids.ipynb",
   "parameters": {
    "max_steps": 10000
   },
   "start_time": "2023-12-18T08:07:05.285840",
   "version": "2.5.0"
  }
 },
 "nbformat": 4,
 "nbformat_minor": 5
}